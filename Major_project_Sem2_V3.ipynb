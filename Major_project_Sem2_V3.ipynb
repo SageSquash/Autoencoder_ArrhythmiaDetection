{
  "nbformat": 4,
  "nbformat_minor": 0,
  "metadata": {
    "colab": {
      "provenance": [],
      "include_colab_link": true
    },
    "kernelspec": {
      "name": "python3",
      "display_name": "Python 3"
    },
    "language_info": {
      "name": "python"
    }
  },
  "cells": [
    {
      "cell_type": "markdown",
      "metadata": {
        "id": "view-in-github",
        "colab_type": "text"
      },
      "source": [
        "<a href=\"https://colab.research.google.com/github/SageSquash/Major-Project/blob/main/Major_project_Sem2_V3.ipynb\" target=\"_parent\"><img src=\"https://colab.research.google.com/assets/colab-badge.svg\" alt=\"Open In Colab\"/></a>"
      ]
    },
    {
      "cell_type": "code",
      "source": [
        "# use stratifiedkfold insted kfold\n",
        "# finetune randomestate?\n",
        "# GridSearchCV"
      ],
      "metadata": {
        "id": "wXXh7NmXIOU3"
      },
      "execution_count": null,
      "outputs": []
    },
    {
      "cell_type": "code",
      "execution_count": null,
      "metadata": {
        "id": "_A1ccX27aMyl",
        "colab": {
          "base_uri": "https://localhost:8080/"
        },
        "outputId": "e49ecee3-402b-4129-9081-3a02753d845f"
      },
      "outputs": [
        {
          "output_type": "stream",
          "name": "stdout",
          "text": [
            "Mounted at /content/drive\n"
          ]
        }
      ],
      "source": [
        "from google.colab import drive\n",
        "drive.mount('/content/drive')"
      ]
    },
    {
      "cell_type": "code",
      "source": [],
      "metadata": {
        "id": "1AUrYNBJKhfo"
      },
      "execution_count": null,
      "outputs": []
    },
    {
      "cell_type": "code",
      "source": [
        "import pandas as pd\n",
        "from sklearn.datasets import load_iris\n",
        "from sklearn.model_selection import cross_val_score\n",
        "from sklearn.tree import DecisionTreeClassifier\n",
        "from sklearn.model_selection import train_test_split\n",
        "from sklearn.tree import plot_tree\n",
        "from sklearn.tree import export_text\n",
        "from sklearn.metrics import accuracy_score\n",
        "from sklearn.model_selection import KFold, cross_val_predict, StratifiedKFold\n",
        "from sklearn.metrics import confusion_matrix\n",
        "from sklearn.ensemble import RandomForestClassifier\n",
        "from sklearn.preprocessing import StandardScaler\n",
        "from sklearn.preprocessing import LabelEncoder\n",
        "import numpy as np\n",
        "import numpy\n",
        "\n",
        "\n",
        "def ID3(X, y, test_size = 0.3, n_splits=5,max_depth = 5):\n",
        "  kf = StratifiedKFold(n_splits,shuffle=True,random_state=42)\n",
        "  DT = DecisionTreeClassifier(criterion='entropy', max_depth=max_depth)\n",
        "  # Without Kfold\n",
        "  X_train, X_test, y_train, y_test = train_test_split(X, y, test_size = test_size, shuffle=True, random_state=42)\n",
        "  DT.fit(X_train, y_train)\n",
        "  y_pred = DT.predict(X_test)\n",
        "  accuracy = accuracy_score(y_test, y_pred)\n",
        "  # print(\"\\nAccuracy:%0.2f\"%accuracy)\n",
        "  \n",
        "  \n",
        "  # With Kfold\n",
        "  # kf = KFold(n_splits,shuffle=True,random_state=42)\n",
        "  DT = DecisionTreeClassifier(criterion='entropy', max_depth = max_depth)\n",
        "  scores = cross_val_score(DT, X, y, cv=kf)\n",
        "  # print(\"%0.2f    \"%accuracy,\"%0.2f\"%scores.mean())\n",
        "  return [round(accuracy,2),round(scores.mean(),2)]\n",
        "  # print(\"Mean accuracy: %0.2f (+/- %0.2f)\" % (scores.mean(), scores.std()))\n",
        "  # y_pred = cross_val_predict(DT, X, y, cv=kf)\n",
        "  # conf_matrix = confusion_matrix(y, y_pred)\n",
        "  # print('Confusion Matrix\\n',conf_matrix)\n",
        "\n",
        "def RN(X,y,test_size=0.3,n_splits=5,max_depth = 5):\n",
        "  if not isinstance(y, np.ndarray):\n",
        "    y = y.values.ravel()\n",
        "  kf = StratifiedKFold(n_splits,shuffle=True,random_state=42)\n",
        "  rf = RandomForestClassifier(n_estimators=10, max_depth=max_depth)\n",
        "\n",
        "  # Without Kfold\n",
        "  X_train, X_test, y_train, y_test = train_test_split(X, y,test_size = test_size, shuffle=True,random_state=42)\n",
        "  rf.fit(X_train, y_train)\n",
        "  y_pred = rf.predict(X_test)\n",
        "  accuracy = accuracy_score(y_test, y_pred)\n",
        "  # print(\"\\nAccuracy:%0.2f\"%accuracy)\n",
        "\n",
        "  # With Kfold\n",
        "  rf = RandomForestClassifier(n_estimators=10,max_depth = max_depth)\n",
        "  scores = cross_val_score(rf, X, y, cv=kf)\n",
        "  # print(\"%0.2f    \"%accuracy,\"%0.2f\"%scores.mean())\n",
        "  return [round(accuracy,2),round(scores.mean(),2)]\n",
        "  # print(\"Mean accuracy: %0.2f (+/- %0.2f)\" % (scores.mean(), scores.std()))\n",
        "  # y_pred = cross_val_predict(rf, X, y, cv=kf)\n",
        "  # conf_matrix = confusion_matrix(y, y_pred)\n",
        "  # print('Confusion Matrix\\n',conf_matrix)\n",
        "\n",
        "def CART(X,y,test_size=0.3,n_splits=5,max_depth = 5):\n",
        "  # y = y.values.ravel()\n",
        "  kf = StratifiedKFold(n_splits,shuffle=True,random_state=42)\n",
        "  cart = DecisionTreeClassifier(criterion='gini',splitter='best',max_depth = max_depth)\n",
        "  # Without Kfold\n",
        "  X_train, X_test, y_train, y_test = train_test_split(X, y, test_size = test_size,shuffle=True, random_state=42)\n",
        "  cart.fit(X_train, y_train)\n",
        "  y_pred = cart.predict(X_test)\n",
        "  accuracy = accuracy_score(y_test, y_pred)\n",
        "  # print(\"\\nAccuracy:%0.2f\"%accuracy)\n",
        "\n",
        "  # With Kfold\n",
        "  cart = DecisionTreeClassifier(criterion='gini',splitter='best',max_depth = max_depth)\n",
        "  scores = cross_val_score(cart, X, y, cv=kf)\n",
        "  # print(\"%0.2f    \"%accuracy,\"%0.2f\"%scores.mean())\n",
        "  return [round(accuracy,2),round(scores.mean(),2)]\n",
        "  # print(\"Mean accuracy: %0.2f (+/- %0.2f)\" % (scores.mean(), scores.std()))\n",
        "  # y_pred = cross_val_predict(cart, X, y, cv=kf)\n",
        "  # conf_matrix = confusion_matrix(y, y_pred)\n",
        "  # print('Confusion Matrix\\n',conf_matrix)"
      ],
      "metadata": {
        "id": "Fv1VZoEOdWFe"
      },
      "execution_count": null,
      "outputs": []
    },
    {
      "cell_type": "code",
      "source": [
        "from collections import Counter\n",
        "def outlier_hunt(df):\n",
        "    \"\"\"\n",
        "    Takes a dataframe df of features and returns a list of the indices\n",
        "    corresponding to the observations containing more than 2 outliers. \n",
        "    \"\"\"\n",
        "    outlier_indices = []\n",
        "    \n",
        "    # iterate over features(columns)\n",
        "    for col in df.columns.tolist():\n",
        "        # 1st quartile (25%)\n",
        "        Q1 = np.percentile(df[col], 25)\n",
        "        \n",
        "        # 3rd quartile (75%)\n",
        "        Q3 = np.percentile(df[col],75)\n",
        "        \n",
        "        # Interquartile rrange (IQR)\n",
        "        IQR = Q3 - Q1\n",
        "        \n",
        "        # outlier step\n",
        "        outlier_step = 1.5 * IQR\n",
        "        \n",
        "        # Determine a list of indices of outliers for feature col\n",
        "        outlier_list_col = df[(df[col] < Q1 - outlier_step) | (df[col] > Q3 + outlier_step )].index\n",
        "        \n",
        "        # append the found outlier indices for col to the list of outlier indices \n",
        "        outlier_indices.extend(outlier_list_col)\n",
        "        \n",
        "    # select observations containing more than 2 outliers\n",
        "    outlier_indices = Counter(outlier_indices)        \n",
        "    multiple_outliers = list( k for k, v in outlier_indices.items() if v > 2 )\n",
        "    \n",
        "    return multiple_outliers   \n",
        "\n",
        "# print('The dataset contains %d observations with more than 2 outliers' %(len(outlier_hunt(df))))"
      ],
      "metadata": {
        "id": "J063tM279QuA"
      },
      "execution_count": null,
      "outputs": []
    },
    {
      "cell_type": "code",
      "source": [
        "def ID3(X, y, test_size = 0.3, n_splits=5,max_depth = 5):\n",
        "  # kf = KFold(n_splits,shuffle=True,random_state=42)\n",
        "  DT = DecisionTreeClassifier(criterion='entropy', max_depth=max_depth)\n",
        "  \n",
        "  # Without Kfold\n",
        "  X_train, X_test, y_train, y_test = train_test_split(X, y, test_size = test_size, shuffle=True, random_state=42)\n",
        "  DT.fit(X_train, y_train)\n",
        "  y_pred = DT.predict(X_test)\n",
        "  accuracy = accuracy_score(y_test, y_pred)\n",
        "  # print(\"\\nAccuracy:%0.2f\"%accuracy)\n",
        "  \n",
        "  \n",
        "  # With Kfold\n",
        "  DT = DecisionTreeClassifier(criterion='entropy', max_depth = max_depth)\n",
        "  scores = cross_val_score(DT, X, y, cv=n_splits)\n",
        "  # print(\"%0.2f    \"%accuracy,\"%0.2f\"%scores.mean())\n",
        "  return [round(accuracy,2),round(scores.mean(),2)]"
      ],
      "metadata": {
        "id": "uPF6_xdfpgPM"
      },
      "execution_count": null,
      "outputs": []
    },
    {
      "cell_type": "code",
      "source": [
        "df=pd.read_csv('/content/drive/MyDrive/Minor_P_Dataset/appendicitis.csv')\n",
        "X = df.iloc[:,:-1]\n",
        "y = df.iloc[:,-1:]\n",
        "# for i in range(2,15):\n",
        "print(ID3(X,y,0.3,15))\n",
        "# print(RN(X,y,0.3,5))\n",
        "# print(CART(X,y,0.3,3))"
      ],
      "metadata": {
        "colab": {
          "base_uri": "https://localhost:8080/"
        },
        "id": "fXR_Sxs6dlOg",
        "outputId": "b0249364-3daa-4991-fa5d-54b7df3b84e7"
      },
      "execution_count": null,
      "outputs": [
        {
          "output_type": "stream",
          "name": "stdout",
          "text": [
            "[0.78, 0.82]\n"
          ]
        }
      ]
    },
    {
      "cell_type": "code",
      "source": [
        "df=pd.read_csv('/content/drive/MyDrive/Minor_P_Dataset/weatherAUS.csv')\n",
        "df['Date'] = pd.to_datetime(df['Date'])\n",
        "df['Year'] = df['Date'].dt.year\n",
        "df['Month'] = df['Date'].dt.month\n",
        "# df['Day'] = df['Date'].dt.day\n",
        "df.drop(columns=['Date'], inplace=True)\n",
        "mode = [\"WindGustDir\", \"WindDir9am\", \"WindDir3pm\"]\n",
        "df[mode]=df[mode].fillna(df.mode().iloc[0])\n",
        "back = ['Cloud9am', 'Cloud3pm', 'RainToday']\n",
        "df[back]=df[back].fillna(method ='bfill')\n",
        "df = df.fillna(df.mean())\n",
        "col = ['Location', 'WindGustDir', 'WindDir9am', 'WindDir3pm', 'RainToday', 'RainTomorrow']\n",
        "label = LabelEncoder()\n",
        "for i in col:\n",
        "    df[i] = label.fit_transform(df[i])\n",
        "\n",
        "X = df.drop(columns = ['RainTomorrow'])\n",
        "y = df['RainTomorrow']\n",
        "scaler = StandardScaler()\n",
        "X = scaler.fit_transform(X)\n",
        "print(ID3(X,y))\n",
        "print(RN(X,y))\n",
        "print(CART(X,y))"
      ],
      "metadata": {
        "colab": {
          "base_uri": "https://localhost:8080/"
        },
        "id": "YoWELuotgond",
        "outputId": "df6343d9-c184-4fba-9ab1-fc8e55dd882d"
      },
      "execution_count": null,
      "outputs": [
        {
          "output_type": "stream",
          "name": "stderr",
          "text": [
            "<ipython-input-6-0031126afdfa>:11: FutureWarning: Dropping of nuisance columns in DataFrame reductions (with 'numeric_only=None') is deprecated; in a future version this will raise TypeError.  Select only valid columns before calling the reduction.\n",
            "  df = df.fillna(df.mean())\n"
          ]
        },
        {
          "output_type": "stream",
          "name": "stdout",
          "text": [
            "[1.0, 1.0]\n",
            "[1.0, 0.98]\n",
            "[1.0, 1.0]\n"
          ]
        }
      ]
    },
    {
      "cell_type": "code",
      "source": [
        "df=pd.read_csv('/content/drive/MyDrive/Minor_P_Dataset/dermatology.csv', header=None, sep = ',')\n",
        "df = df.replace('?', pd.np.nan)\n",
        "df = df.dropna()\n",
        "X = df.iloc[:,:-1]\n",
        "y = df.iloc[:,-1:]\n",
        "scaler = StandardScaler()\n",
        "X = scaler.fit_transform(X)\n",
        "print(ID3(X,y,0.3,4,9))\n",
        "print(RN(X,y,0.3,8,8))\n",
        "print(CART(X,y,0.3,8,10))"
      ],
      "metadata": {
        "colab": {
          "base_uri": "https://localhost:8080/"
        },
        "id": "OHDkMU1dixKC",
        "outputId": "e2837386-86e2-4bd4-d927-9180fcc0ff45"
      },
      "execution_count": null,
      "outputs": [
        {
          "output_type": "stream",
          "name": "stderr",
          "text": [
            "<ipython-input-18-9f2f79151e86>:2: FutureWarning: The pandas.np module is deprecated and will be removed from pandas in a future version. Import numpy directly instead.\n",
            "  df = df.replace('?', pd.np.nan)\n"
          ]
        },
        {
          "output_type": "stream",
          "name": "stdout",
          "text": [
            "[0.92, 0.93]\n",
            "[0.98, 0.96]\n",
            "[0.93, 0.95]\n"
          ]
        }
      ]
    },
    {
      "cell_type": "code",
      "source": [
        "df=pd.read_csv('/content/drive/MyDrive/Minor_P_Dataset/glass.csv',  sep = ',')\n",
        "outlier_indices = outlier_hunt(df)\n",
        "df = df.drop(outlier_indices).reset_index(drop=True)\n",
        "X = df.iloc[:,:-1]\n",
        "y = df.iloc[:,-1:]\n",
        "X=StandardScaler().fit_transform(X)\n",
        "print(ID3(X,y,0.3,13,4))\n",
        "print(RN(X,y,0.3, 12, 11))\n",
        "print(CART(X,y,0.3,13,13))"
      ],
      "metadata": {
        "colab": {
          "base_uri": "https://localhost:8080/"
        },
        "id": "bNYYdU1qjxiN",
        "outputId": "5fe66768-bfbe-49b4-8708-ad68cf88c3ca"
      },
      "execution_count": null,
      "outputs": [
        {
          "output_type": "stream",
          "name": "stderr",
          "text": [
            "/usr/local/lib/python3.9/dist-packages/sklearn/model_selection/_split.py:700: UserWarning: The least populated class in y has only 8 members, which is less than n_splits=13.\n",
            "  warnings.warn(\n",
            "/usr/local/lib/python3.9/dist-packages/sklearn/model_selection/_split.py:700: UserWarning: The least populated class in y has only 8 members, which is less than n_splits=12.\n",
            "  warnings.warn(\n"
          ]
        },
        {
          "output_type": "stream",
          "name": "stdout",
          "text": [
            "[0.6, 0.66]\n",
            "[0.77, 0.76]\n",
            "[0.67, 0.66]\n"
          ]
        },
        {
          "output_type": "stream",
          "name": "stderr",
          "text": [
            "/usr/local/lib/python3.9/dist-packages/sklearn/model_selection/_split.py:700: UserWarning: The least populated class in y has only 8 members, which is less than n_splits=13.\n",
            "  warnings.warn(\n"
          ]
        }
      ]
    },
    {
      "cell_type": "code",
      "source": [
        "iris = load_iris()\n",
        "X = iris.data\n",
        "X=StandardScaler().fit_transform(X)\n",
        "y = iris.target\n",
        "print(ID3(X,y))\n",
        "\n",
        "\n",
        "kf = KFold(n_splits=10)\n",
        "rf = RandomForestClassifier(n_estimators=50)\n",
        "X_train, X_test, y_train, y_test = train_test_split(X, y, test_size=0.3, random_state=0)\n",
        "rf.fit(X_train, y_train)\n",
        "y_pred = rf.predict(X_test)\n",
        "accuracy = accuracy_score(y_test, y_pred)\n",
        "print(\"\\n\\nAccuracy:%0.2f\"%accuracy)\n",
        "\n",
        "scores = cross_val_score(rf, X, y, cv=kf)\n",
        "print(\"Mean accuracy: %0.2f (+/- %0.2f)\" % (scores.mean(), scores.std()))\n",
        "\n",
        "y_pred = cross_val_predict(rf, X, y, cv=kf)\n",
        "conf_matrix = confusion_matrix(y, y_pred)\n",
        "# print('Confusion Matrix\\n',conf_matrix)\n",
        "\n",
        "kf = KFold(n_splits=10)\n",
        "cart = DecisionTreeClassifier(criterion='gini',splitter='best')\n",
        "cart.fit(X_train, y_train)\n",
        "y_pred = cart.predict(X_test)\n",
        "accuracy = accuracy_score(y_test, y_pred)\n",
        "print(\"\\n\\nAccuracy:%0.2f\"%accuracy)\n",
        "\n",
        "scores = cross_val_score(cart, X, y, cv=kf)\n",
        "print(\"Mean accuracy: %0.2f (+/- %0.2f)\" % (scores.mean(), scores.std()))\n",
        "\n",
        "y_pred = cross_val_predict(cart, X, y, cv=kf)\n",
        "conf_matrix = confusion_matrix(y, y_pred)\n",
        "# print('Confusion Matrix\\n',conf_matrix)"
      ],
      "metadata": {
        "colab": {
          "base_uri": "https://localhost:8080/"
        },
        "id": "f0-MJSWf2po_",
        "outputId": "88e24328-4761-4911-84a1-75fe7f442432"
      },
      "execution_count": null,
      "outputs": [
        {
          "output_type": "stream",
          "name": "stdout",
          "text": [
            "[0.98, 0.95]\n",
            "\n",
            "\n",
            "Accuracy:0.98\n",
            "Mean accuracy: 0.94 (+/- 0.07)\n",
            "\n",
            "\n",
            "Accuracy:0.98\n",
            "Mean accuracy: 0.94 (+/- 0.09)\n"
          ]
        }
      ]
    },
    {
      "cell_type": "code",
      "source": [
        "df=pd.read_csv('/content/drive/MyDrive/Minor_P_Dataset/magic.csv',  sep = ',')\n",
        "# df = df.replace('?', pd.np.nan)\n",
        "# df = df.dropna()\n",
        "X = df.iloc[:,:-1]\n",
        "y = df.iloc[:,-1:]\n",
        "X=StandardScaler().fit_transform(X)\n",
        "y = LabelEncoder().fit_transform(y)\n",
        "print(ID3(X,y))\n",
        "print(RN(X,y))\n",
        "print(CART(X,y))"
      ],
      "metadata": {
        "colab": {
          "base_uri": "https://localhost:8080/"
        },
        "id": "BLlnyzBH3I1n",
        "outputId": "6acac45e-2fc8-4101-cd2a-f33b9c43a405"
      },
      "execution_count": null,
      "outputs": [
        {
          "output_type": "stream",
          "name": "stderr",
          "text": [
            "/usr/local/lib/python3.8/dist-packages/sklearn/preprocessing/_label.py:115: DataConversionWarning: A column-vector y was passed when a 1d array was expected. Please change the shape of y to (n_samples, ), for example using ravel().\n",
            "  y = column_or_1d(y, warn=True)\n"
          ]
        },
        {
          "output_type": "stream",
          "name": "stdout",
          "text": [
            "[1.0, 1.0]\n",
            "[1.0, 1.0]\n",
            "[1.0, 1.0]\n"
          ]
        }
      ]
    },
    {
      "cell_type": "code",
      "source": [
        "df=pd.read_csv('/content/drive/MyDrive/Minor_P_Dataset/mammographic_masses.csv', header = None, sep = ',')\n",
        "df = df.replace('?', pd.np.nan)\n",
        "df = df.dropna()\n",
        "X = df.iloc[:,:-1]\n",
        "y = df.iloc[:,-1:]\n",
        "X=StandardScaler().fit_transform(X)\n",
        "print(ID3(X,y,0.3,14,5))\n",
        "# print(RN(X,y,0.3,11,4))\n",
        "# print(CART(X,y,0.3,13,4))"
      ],
      "metadata": {
        "colab": {
          "base_uri": "https://localhost:8080/"
        },
        "id": "haFcLesN48Nb",
        "outputId": "f8b9a85a-8a6e-4d94-f3e3-6a8b4af2031a"
      },
      "execution_count": null,
      "outputs": [
        {
          "output_type": "stream",
          "name": "stdout",
          "text": [
            "[0.81, 0.81]\n"
          ]
        },
        {
          "output_type": "stream",
          "name": "stderr",
          "text": [
            "<ipython-input-4-a09f431b97f7>:2: FutureWarning: The pandas.np module is deprecated and will be removed from pandas in a future version. Import numpy directly instead\n",
            "  df = df.replace('?', pd.np.nan)\n"
          ]
        }
      ]
    },
    {
      "cell_type": "code",
      "source": [
        "DT = DecisionTreeClassifier(criterion='entropy',ccp_alpha= 0.01, max_depth= 4,max_features= 'log2')"
      ],
      "metadata": {
        "id": "w6cbchyyn6aA"
      },
      "execution_count": null,
      "outputs": []
    },
    {
      "cell_type": "code",
      "source": [
        "X_train, X_test, y_train, y_test = train_test_split(X, y, test_size = 0.3, shuffle=True, random_state=42)"
      ],
      "metadata": {
        "id": "p3o88n55rfYF"
      },
      "execution_count": null,
      "outputs": []
    },
    {
      "cell_type": "code",
      "source": [
        "from sklearn.model_selection import GridSearchCV"
      ],
      "metadata": {
        "id": "a3GGSWkhrALg"
      },
      "execution_count": null,
      "outputs": []
    },
    {
      "cell_type": "code",
      "source": [
        "param_grid = {'max_features': ['auto', 'sqrt', 'log2'],\n",
        "              'ccp_alpha': [0.1, .01, .001],\n",
        "              'max_depth' : [1,2,4,5, 6, 7, 8, 9],\n",
        "              'criterion' :['entropy']\n",
        "             }\n",
        "grid_search = GridSearchCV(estimator=DT, param_grid=param_grid, cv=5, verbose=True)\n",
        "grid_search.fit(X_train, y_train)"
      ],
      "metadata": {
        "colab": {
          "base_uri": "https://localhost:8080/"
        },
        "id": "tHtl6h7Yqzcd",
        "outputId": "767ed864-d010-4434-9de8-cc0f1e47c86d"
      },
      "execution_count": null,
      "outputs": [
        {
          "output_type": "stream",
          "name": "stdout",
          "text": [
            "Fitting 5 folds for each of 72 candidates, totalling 360 fits\n"
          ]
        },
        {
          "output_type": "execute_result",
          "data": {
            "text/plain": [
              "GridSearchCV(cv=5, estimator=DecisionTreeClassifier(criterion='entropy'),\n",
              "             param_grid={'ccp_alpha': [0.1, 0.01, 0.001],\n",
              "                         'criterion': ['entropy'],\n",
              "                         'max_depth': [1, 2, 4, 5, 6, 7, 8, 9],\n",
              "                         'max_features': ['auto', 'sqrt', 'log2']},\n",
              "             verbose=True)"
            ]
          },
          "metadata": {},
          "execution_count": 12
        }
      ]
    },
    {
      "cell_type": "code",
      "source": [
        "grid_search.best_params_\n"
      ],
      "metadata": {
        "colab": {
          "base_uri": "https://localhost:8080/"
        },
        "id": "hRCvLBlPr_lP",
        "outputId": "5f8d804b-a735-4339-d5b9-717fa09d5dd4"
      },
      "execution_count": null,
      "outputs": [
        {
          "output_type": "execute_result",
          "data": {
            "text/plain": [
              "{'ccp_alpha': 0.01,\n",
              " 'criterion': 'entropy',\n",
              " 'max_depth': 4,\n",
              " 'max_features': 'log2'}"
            ]
          },
          "metadata": {},
          "execution_count": 15
        }
      ]
    },
    {
      "cell_type": "code",
      "source": [
        "import copy\n",
        "DT2 = copy.deepcopy(DT)"
      ],
      "metadata": {
        "id": "FM-llPhMvYAR"
      },
      "execution_count": null,
      "outputs": []
    },
    {
      "cell_type": "code",
      "source": [
        "DT2"
      ],
      "metadata": {
        "colab": {
          "base_uri": "https://localhost:8080/"
        },
        "id": "eY1jiPppvdSA",
        "outputId": "e7d7bf82-e26f-4b63-973a-83364b94d655"
      },
      "execution_count": null,
      "outputs": [
        {
          "output_type": "execute_result",
          "data": {
            "text/plain": [
              "DecisionTreeClassifier(ccp_alpha=0.01, criterion='entropy', max_depth=4,\n",
              "                       max_features='log2')"
            ]
          },
          "metadata": {},
          "execution_count": 22
        }
      ]
    },
    {
      "cell_type": "code",
      "source": [
        "DT"
      ],
      "metadata": {
        "colab": {
          "base_uri": "https://localhost:8080/"
        },
        "id": "sfCJ3VK8vg7s",
        "outputId": "591a6bc4-e5a4-4fc7-8551-4483976960d5"
      },
      "execution_count": null,
      "outputs": [
        {
          "output_type": "execute_result",
          "data": {
            "text/plain": [
              "DecisionTreeClassifier(ccp_alpha=0.01, criterion='entropy', max_depth=4,\n",
              "                       max_features='log2')"
            ]
          },
          "metadata": {},
          "execution_count": 23
        }
      ]
    },
    {
      "cell_type": "code",
      "source": [
        "DT2.predict(X)"
      ],
      "metadata": {
        "colab": {
          "base_uri": "https://localhost:8080/",
          "height": 355
        },
        "id": "Jy-iHdbMvp10",
        "outputId": "1fa35092-8f79-4cbd-a486-906b2cfca3fd"
      },
      "execution_count": null,
      "outputs": [
        {
          "output_type": "error",
          "ename": "NotFittedError",
          "evalue": "ignored",
          "traceback": [
            "\u001b[0;31m---------------------------------------------------------------------------\u001b[0m",
            "\u001b[0;31mNotFittedError\u001b[0m                            Traceback (most recent call last)",
            "\u001b[0;32m<ipython-input-33-e9e7b717a0aa>\u001b[0m in \u001b[0;36m<module>\u001b[0;34m\u001b[0m\n\u001b[0;32m----> 1\u001b[0;31m \u001b[0mDT2\u001b[0m\u001b[0;34m.\u001b[0m\u001b[0mpredict\u001b[0m\u001b[0;34m(\u001b[0m\u001b[0mX\u001b[0m\u001b[0;34m)\u001b[0m\u001b[0;34m\u001b[0m\u001b[0;34m\u001b[0m\u001b[0m\n\u001b[0m",
            "\u001b[0;32m/usr/local/lib/python3.8/dist-packages/sklearn/tree/_classes.py\u001b[0m in \u001b[0;36mpredict\u001b[0;34m(self, X, check_input)\u001b[0m\n\u001b[1;32m    464\u001b[0m             \u001b[0mThe\u001b[0m \u001b[0mpredicted\u001b[0m \u001b[0mclasses\u001b[0m\u001b[0;34m,\u001b[0m \u001b[0;32mor\u001b[0m \u001b[0mthe\u001b[0m \u001b[0mpredict\u001b[0m \u001b[0mvalues\u001b[0m\u001b[0;34m.\u001b[0m\u001b[0;34m\u001b[0m\u001b[0;34m\u001b[0m\u001b[0m\n\u001b[1;32m    465\u001b[0m         \"\"\"\n\u001b[0;32m--> 466\u001b[0;31m         \u001b[0mcheck_is_fitted\u001b[0m\u001b[0;34m(\u001b[0m\u001b[0mself\u001b[0m\u001b[0;34m)\u001b[0m\u001b[0;34m\u001b[0m\u001b[0;34m\u001b[0m\u001b[0m\n\u001b[0m\u001b[1;32m    467\u001b[0m         \u001b[0mX\u001b[0m \u001b[0;34m=\u001b[0m \u001b[0mself\u001b[0m\u001b[0;34m.\u001b[0m\u001b[0m_validate_X_predict\u001b[0m\u001b[0;34m(\u001b[0m\u001b[0mX\u001b[0m\u001b[0;34m,\u001b[0m \u001b[0mcheck_input\u001b[0m\u001b[0;34m)\u001b[0m\u001b[0;34m\u001b[0m\u001b[0;34m\u001b[0m\u001b[0m\n\u001b[1;32m    468\u001b[0m         \u001b[0mproba\u001b[0m \u001b[0;34m=\u001b[0m \u001b[0mself\u001b[0m\u001b[0;34m.\u001b[0m\u001b[0mtree_\u001b[0m\u001b[0;34m.\u001b[0m\u001b[0mpredict\u001b[0m\u001b[0;34m(\u001b[0m\u001b[0mX\u001b[0m\u001b[0;34m)\u001b[0m\u001b[0;34m\u001b[0m\u001b[0;34m\u001b[0m\u001b[0m\n",
            "\u001b[0;32m/usr/local/lib/python3.8/dist-packages/sklearn/utils/validation.py\u001b[0m in \u001b[0;36mcheck_is_fitted\u001b[0;34m(estimator, attributes, msg, all_or_any)\u001b[0m\n\u001b[1;32m   1220\u001b[0m \u001b[0;34m\u001b[0m\u001b[0m\n\u001b[1;32m   1221\u001b[0m     \u001b[0;32mif\u001b[0m \u001b[0;32mnot\u001b[0m \u001b[0mfitted\u001b[0m\u001b[0;34m:\u001b[0m\u001b[0;34m\u001b[0m\u001b[0;34m\u001b[0m\u001b[0m\n\u001b[0;32m-> 1222\u001b[0;31m         \u001b[0;32mraise\u001b[0m \u001b[0mNotFittedError\u001b[0m\u001b[0;34m(\u001b[0m\u001b[0mmsg\u001b[0m \u001b[0;34m%\u001b[0m \u001b[0;34m{\u001b[0m\u001b[0;34m\"name\"\u001b[0m\u001b[0;34m:\u001b[0m \u001b[0mtype\u001b[0m\u001b[0;34m(\u001b[0m\u001b[0mestimator\u001b[0m\u001b[0;34m)\u001b[0m\u001b[0;34m.\u001b[0m\u001b[0m__name__\u001b[0m\u001b[0;34m}\u001b[0m\u001b[0;34m)\u001b[0m\u001b[0;34m\u001b[0m\u001b[0;34m\u001b[0m\u001b[0m\n\u001b[0m\u001b[1;32m   1223\u001b[0m \u001b[0;34m\u001b[0m\u001b[0m\n\u001b[1;32m   1224\u001b[0m \u001b[0;34m\u001b[0m\u001b[0m\n",
            "\u001b[0;31mNotFittedError\u001b[0m: This DecisionTreeClassifier instance is not fitted yet. Call 'fit' with appropriate arguments before using this estimator."
          ]
        }
      ]
    },
    {
      "cell_type": "code",
      "source": [
        "df=pd.read_csv('/content/drive/MyDrive/Minor_P_Dataset/newthyroid.csv', header = None, sep = ',')\n",
        "df = df.dropna()\n",
        "X = df.iloc[:,1:]\n",
        "y = df.iloc[:,0:1]\n",
        "from imblearn.over_sampling import RandomOverSampler\n",
        "oversampler = RandomOverSampler()\n",
        "X, y = oversampler.fit_resample(X, y)\n",
        "X=StandardScaler().fit_transform(X)\n",
        "\n",
        "print(ID3(X,y,0.3,5))\n",
        "print(RN(X,y,0.3,5))\n",
        "print(CART(X,y,0.3,5))"
      ],
      "metadata": {
        "colab": {
          "base_uri": "https://localhost:8080/"
        },
        "id": "7VN7V6m65rXY",
        "outputId": "98a444de-9071-4f82-9267-a515d8cb9220"
      },
      "execution_count": null,
      "outputs": [
        {
          "output_type": "stream",
          "name": "stdout",
          "text": [
            "[0.98, 0.99]\n",
            "[0.99, 0.99]\n",
            "[0.99, 0.98]\n"
          ]
        }
      ]
    },
    {
      "cell_type": "code",
      "source": [
        "# !pip install pyreadstat"
      ],
      "metadata": {
        "id": "60F4U7b1BOxT"
      },
      "execution_count": null,
      "outputs": []
    },
    {
      "cell_type": "code",
      "source": [
        "# df=pd.read_csv('/content/drive/MyDrive/Minor_P_Dataset/mammographic_masses.csv',  sep = ',')\n",
        "df = pd.read_csv(\"/content/drive/MyDrive/Minor_P_Dataset/segment_csv.csv\", sep = ',')\n",
        "df = df.replace('?', pd.np.nan)\n",
        "df = df.dropna()\n",
        "X = df.iloc[:,:-1]\n",
        "y = df.iloc[:,-1:]\n",
        "X = X.iloc[:,3:]\n",
        "X=StandardScaler().fit_transform(X)\n",
        "y = LabelEncoder().fit_transform(y)\n",
        "print(ID3(X,y,0.3,8,10))\n",
        "print(RN(X,y,0.3,8,10))\n",
        "print(CART(X,y,0.3,8,10))"
      ],
      "metadata": {
        "colab": {
          "base_uri": "https://localhost:8080/"
        },
        "id": "prBy5F_Z7wrq",
        "outputId": "2bb7b52b-c25c-4cf5-c39c-d333a413ac36"
      },
      "execution_count": null,
      "outputs": [
        {
          "output_type": "stream",
          "name": "stderr",
          "text": [
            "<ipython-input-143-83badffb4093>:3: FutureWarning: The pandas.np module is deprecated and will be removed from pandas in a future version. Import numpy directly instead\n",
            "  df = df.replace('?', pd.np.nan)\n",
            "/usr/local/lib/python3.8/dist-packages/sklearn/preprocessing/_label.py:115: DataConversionWarning: A column-vector y was passed when a 1d array was expected. Please change the shape of y to (n_samples, ), for example using ravel().\n",
            "  y = column_or_1d(y, warn=True)\n"
          ]
        },
        {
          "output_type": "stream",
          "name": "stdout",
          "text": [
            "[0.9, 0.91]\n",
            "[0.91, 0.92]\n",
            "[0.89, 0.91]\n"
          ]
        }
      ]
    },
    {
      "cell_type": "code",
      "source": [
        "df=pd.read_csv('/content/drive/MyDrive/Minor_P_Dataset/tae_data.csv', header = None, sep = ',')\n",
        "df = df.drop(df.columns[1], axis=1)\n",
        "X = df.iloc[:,:-1]\n",
        "y = df.iloc[:,-1:]\n",
        "X=StandardScaler().fit_transform(X)\n",
        "print(ID3(X,y,0.3,8,11))\n",
        "print(RN(X,y,0.3,10,12))\n",
        "print(CART(X,y,0.3,8,7))"
      ],
      "metadata": {
        "colab": {
          "base_uri": "https://localhost:8080/"
        },
        "id": "2w940k43-BNk",
        "outputId": "51ee48a0-ff22-4200-c4bb-1058849744e7"
      },
      "execution_count": null,
      "outputs": [
        {
          "output_type": "stream",
          "name": "stdout",
          "text": [
            "[0.61, 0.62]\n",
            "[0.59, 0.61]\n",
            "[0.63, 0.65]\n"
          ]
        }
      ]
    },
    {
      "cell_type": "code",
      "source": [
        "df=pd.read_csv('/content/drive/MyDrive/Minor_P_Dataset/vowel.csv', header = None, sep = ',')\n",
        "df = df.replace('?', pd.np.nan)\n",
        "df = df.dropna()\n",
        "X = df.iloc[:,3:-1]\n",
        "y = df.iloc[:,-1:]\n",
        "X=StandardScaler().fit_transform(X)\n",
        "print(ID3(X,y,0.3,5,12))\n",
        "print(RN(X,y,0.3,13,13))\n",
        "print(CART(X,y,0.3,13,13))"
      ],
      "metadata": {
        "colab": {
          "base_uri": "https://localhost:8080/"
        },
        "id": "CMC_9KS-BPyQ",
        "outputId": "ab26d7b4-507c-4a0e-b880-ea6a24f6e92c"
      },
      "execution_count": null,
      "outputs": [
        {
          "output_type": "stream",
          "name": "stderr",
          "text": [
            "<ipython-input-13-50acd0616b47>:2: FutureWarning: The pandas.np module is deprecated and will be removed from pandas in a future version. Import numpy directly instead\n",
            "  df = df.replace('?', pd.np.nan)\n"
          ]
        },
        {
          "output_type": "stream",
          "name": "stdout",
          "text": [
            "[0.76, 0.8]\n",
            "[0.9, 0.93]\n",
            "[0.72, 0.82]\n"
          ]
        }
      ]
    },
    {
      "cell_type": "code",
      "source": [
        "type(y)"
      ],
      "metadata": {
        "colab": {
          "base_uri": "https://localhost:8080/"
        },
        "id": "R0WAyxX8S_I5",
        "outputId": "e3effeb8-87eb-49f9-cb66-2b27a48706f0"
      },
      "execution_count": null,
      "outputs": [
        {
          "output_type": "execute_result",
          "data": {
            "text/plain": [
              "numpy.ndarray"
            ]
          },
          "metadata": {},
          "execution_count": 27
        }
      ]
    },
    {
      "cell_type": "code",
      "source": [
        "df=pd.read_csv('/content/drive/MyDrive/Minor_P_Dataset/wdbc.csv' )\n",
        "# df = df.replace('?', pd.np.nan)\n",
        "# df = df.dropna()\n",
        "X = df.iloc[:,2:-1]\n",
        "y = df.iloc[:,1:2]\n",
        "X=StandardScaler().fit_transform(X)\n",
        "y = LabelEncoder().fit_transform(y)\n",
        "print(ID3(X,y,0.3,10,10))\n",
        "print(RN(X,y,0.3,10,10))\n",
        "print(CART(X,y,0.3,10,10))"
      ],
      "metadata": {
        "colab": {
          "base_uri": "https://localhost:8080/"
        },
        "id": "9x2xPxReHKo9",
        "outputId": "b5cf2433-6cd9-44bf-f829-0bb907d31533"
      },
      "execution_count": null,
      "outputs": [
        {
          "output_type": "stream",
          "name": "stderr",
          "text": [
            "/usr/local/lib/python3.8/dist-packages/sklearn/preprocessing/_label.py:115: DataConversionWarning: A column-vector y was passed when a 1d array was expected. Please change the shape of y to (n_samples, ), for example using ravel().\n",
            "  y = column_or_1d(y, warn=True)\n"
          ]
        },
        {
          "output_type": "stream",
          "name": "stdout",
          "text": [
            "[0.95, 0.94]\n",
            "[0.97, 0.95]\n",
            "[0.92, 0.94]\n"
          ]
        }
      ]
    },
    {
      "cell_type": "code",
      "source": [
        "df=pd.read_csv('/content/drive/MyDrive/Minor_P_Dataset/wine.csv', header = None, sep = ',')\n",
        "# df = df.dropna()\n",
        "X = df.iloc[:,1:]\n",
        "y = df.iloc[:,0:1]\n",
        "X=StandardScaler().fit_transform(X)\n",
        "# y = LabelEncoder().fit_transform(y)\n",
        "print(ID3(X,y,0.3,5,10))\n",
        "print(RN(X,y,0.3,5,10))\n",
        "print(CART(X,y,0.3,5,10))"
      ],
      "metadata": {
        "colab": {
          "base_uri": "https://localhost:8080/"
        },
        "id": "aEkPS4V0H4kR",
        "outputId": "11a9f8ef-72d8-4289-ed23-d8d1df60de09"
      },
      "execution_count": null,
      "outputs": [
        {
          "output_type": "stream",
          "name": "stdout",
          "text": [
            "[0.81, 0.94]\n",
            "[1.0, 0.98]\n",
            "[0.94, 0.9]\n"
          ]
        }
      ]
    },
    {
      "cell_type": "code",
      "source": [
        "df=pd.read_csv('/content/drive/MyDrive/Minor_P_Dataset/german.data-numeric.csv',header = None, sep = ',')\n",
        "# df = df.replace('?', pd.np.nan)\n",
        "# df = df.dropna()\n",
        "X = df.iloc[:,:-1]\n",
        "y = df.iloc[:,-1:]\n",
        "from imblearn.over_sampling import RandomOverSampler\n",
        "oversampler = RandomOverSampler()\n",
        "X, y = oversampler.fit_resample(X, y)\n",
        "X=StandardScaler().fit_transform(X)\n",
        "# y = LabelEncoder().fit_transform(y)\n",
        "print(ID3(X,y,0.3,5,14))\n",
        "print(RN(X,y,0.3,6,14))\n",
        "print(CART(X,y,0.3,9,14))"
      ],
      "metadata": {
        "colab": {
          "base_uri": "https://localhost:8080/"
        },
        "id": "eI5ajjk7Kysk",
        "outputId": "b7944603-ff3a-475e-d06a-6c3661b82004"
      },
      "execution_count": null,
      "outputs": [
        {
          "output_type": "stream",
          "name": "stdout",
          "text": [
            "[0.81, 0.83]\n",
            "[0.85, 0.87]\n",
            "[0.83, 0.84]\n"
          ]
        }
      ]
    },
    {
      "cell_type": "code",
      "source": [
        "data=pd.read_csv('/content/drive/MyDrive/Minor_P_Dataset/hypothyroid.csv', sep = ',')\n",
        "from sklearn.preprocessing import LabelEncoder\n",
        "enc=LabelEncoder()\n",
        "for x in data.columns:\n",
        "    data[x]=enc.fit_transform(data[x])\n",
        "data=data.drop_duplicates()\n",
        "data['age']=(data['age']-data['age'].min())/(data['age'].max()-data['age'].min())\n",
        "data['TT4']=(data['TT4']-data['TT4'].min())/(data['TT4'].max()-data['TT4'].min())\n",
        "data['T4U']=(data['T4U']-data['T4U'].min())/(data['T4U'].max()-data['T4U'].min())\n",
        "data['FTI']=(data['FTI']-data['FTI'].min())/(data['FTI'].max()-data['FTI'].min())\n",
        "y=data['binaryClass']\n",
        "X=data.drop(['binaryClass'],axis=1)\n",
        "print(ID3(X,y))\n",
        "print(RN(X,y))\n",
        "print(CART(X,y))"
      ],
      "metadata": {
        "colab": {
          "base_uri": "https://localhost:8080/"
        },
        "id": "5-UKbfFXMr1E",
        "outputId": "d2a6febe-439f-4861-d03d-0829cf563cde"
      },
      "execution_count": null,
      "outputs": [
        {
          "output_type": "stream",
          "name": "stdout",
          "text": [
            "[0.97, 0.97]\n",
            "[0.93, 0.93]\n",
            "[0.95, 0.96]\n"
          ]
        }
      ]
    },
    {
      "cell_type": "code",
      "source": [
        "df=pd.read_csv('/content/drive/MyDrive/Minor_P_Dataset/ionosphere.csv',header = None, sep = ',')\n",
        "# df = df.replace('?', pd.np.nan)\n",
        "# df = df.dropna()\n",
        "X = df.iloc[:,:-1]\n",
        "y = df.iloc[:,-1:]\n",
        "from imblearn.over_sampling import RandomOverSampler\n",
        "oversampler = RandomOverSampler()\n",
        "X, y = oversampler.fit_resample(X, y)\n",
        "X=StandardScaler().fit_transform(X)\n",
        "y = LabelEncoder().fit_transform(y)\n",
        "print(ID3(X,y,0.3,7,14))\n",
        "print(RN(X,y,0.3,7,14))\n",
        "print(CART(X,y,0.3,10,14))"
      ],
      "metadata": {
        "colab": {
          "base_uri": "https://localhost:8080/"
        },
        "id": "wkwIJ7NyS35C",
        "outputId": "be047c03-8b6c-49d6-8037-fd0d2cdc5a98"
      },
      "execution_count": null,
      "outputs": [
        {
          "output_type": "stream",
          "name": "stderr",
          "text": [
            "/usr/local/lib/python3.8/dist-packages/sklearn/preprocessing/_label.py:115: DataConversionWarning: A column-vector y was passed when a 1d array was expected. Please change the shape of y to (n_samples, ), for example using ravel().\n",
            "  y = column_or_1d(y, warn=True)\n"
          ]
        },
        {
          "output_type": "stream",
          "name": "stdout",
          "text": [
            "[0.93, 0.93]\n",
            "[0.96, 0.95]\n",
            "[0.89, 0.93]\n"
          ]
        }
      ]
    },
    {
      "cell_type": "code",
      "source": [
        "# pima\n",
        "df=pd.read_csv('/content/drive/MyDrive/Minor_P_Dataset/diabetes.csv',sep = ',')\n",
        "X = df.iloc[:,:-1]\n",
        "y = df.iloc[:,-1:]\n",
        "from imblearn.over_sampling import RandomOverSampler\n",
        "oversampler = RandomOverSampler()\n",
        "X, y = oversampler.fit_resample(X, y)\n",
        "X=StandardScaler().fit_transform(X)\n",
        "\n",
        "print(ID3(X,y,0.3,14,14))\n",
        "print(RN(X,y,0.3,14,14))\n",
        "print(CART(X,y,0.3,14,14))"
      ],
      "metadata": {
        "colab": {
          "base_uri": "https://localhost:8080/"
        },
        "id": "LIbHC4ByTQ-k",
        "outputId": "486cf060-7d13-4f9e-c5b5-650e390f39e7"
      },
      "execution_count": null,
      "outputs": [
        {
          "output_type": "stream",
          "name": "stdout",
          "text": [
            "[0.8, 0.83]\n",
            "[0.82, 0.85]\n",
            "[0.8, 0.83]\n"
          ]
        }
      ]
    },
    {
      "cell_type": "code",
      "source": [
        "# a1 = 0\n",
        "# b1 = 0;\n",
        "# tempi = 0\n",
        "# tempj = 0\n",
        "# for i in range(2,15):\n",
        "#   for j in range(2,15):\n",
        "#     a,b = ID3(X,y,0.3,i,j)\n",
        "#     if b>=b1 and a < b:\n",
        "#       b1= b\n",
        "#       print(a,\" \",b,\" \",i,\" \",j)\n",
        "# print(\"************************\")\n",
        "# a1 = 0\n",
        "# b1 = 0;\n",
        "# tempi = 0\n",
        "# tempj = 0\n",
        "# for i in range(2,20):\n",
        "#   for j in range(7,15):\n",
        "#     a,b = RN(X,y,0.3,i,j)\n",
        "#     if b>=b1 and a < b:\n",
        "#       b1= b\n",
        "#       print(a,\" \",b,\" \",i,\" \",j)\n",
        "# print(\"************************\")\n",
        "\n",
        "# a1 = 0\n",
        "# b1 = 0;\n",
        "# tempi = 0\n",
        "# tempj = 0\n",
        "# for i in range(2,15):\n",
        "#   for j in range(2,15):\n",
        "#     a,b = CART(X,y,0.3,i,j)\n",
        "#     if b>=b1 and a < b:\n",
        "#       b1= b\n",
        "#       print(a,\" \",b,\" \",i,\" \",j)"
      ],
      "metadata": {
        "id": "nyFRuMZU9TZ1"
      },
      "execution_count": null,
      "outputs": []
    },
    {
      "cell_type": "code",
      "source": [],
      "metadata": {
        "id": "_jjju0kIp_0y"
      },
      "execution_count": null,
      "outputs": []
    }
  ]
}